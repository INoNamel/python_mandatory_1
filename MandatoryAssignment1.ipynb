{
 "cells": [
  {
   "cell_type": "markdown",
   "metadata": {},
   "source": [
    "# Mandatory Assignment 1 - \"Introduction to Python\" Spring 2020\n",
    "\n",
    "**The following assignments should be done in this Notebook, and Handed in as a .ipynp on fronter in the hand in folder.**\n",
    "\n",
    "**Choose to do the tasks you find the easiest fist and do as much as you find possible.**\n",
    "\n",
    "**You have one hour for all 3 assignments.**"
   ]
  },
  {
   "cell_type": "markdown",
   "metadata": {},
   "source": [
    "## Springer Books"
   ]
  },
  {
   "cell_type": "markdown",
   "metadata": {},
   "source": [
    "On this link you can see a list of books from the publishing house \"Springer\".\n",
    "\n",
    "https://docs.google.com/spreadsheets/d/1HzdumNltTj2SHmCv3SRdoub8SvpIEn75fa4Q23x0keU/htmlview#gid=793911758\n",
    "\n",
    "You can see the same data in [this csv file](springer.csv).\n",
    "\n",
    "\n",
    "\n",
    "In this assignment you should download all pdf files off books belonging to the \"English Package Name = Computer Science\" category."
   ]
  },
  {
   "cell_type": "code",
   "execution_count": 9,
   "metadata": {},
   "outputs": [
    {
     "name": "stdout",
     "output_type": "stream",
     "text": [
      "Introduction to Evolutionary Computing http://link.springer.com/openurl?genre=book&isbn=978-3-662-44874-8\n",
      "Data Structures and Algorithms with Python http://link.springer.com/openurl?genre=book&isbn=978-3-319-13072-9\n",
      "LaTeX in 24 Hours http://link.springer.com/openurl?genre=book&isbn=978-3-319-47831-9\n",
      "Automata and Computability http://link.springer.com/openurl?genre=book&isbn=978-1-4612-1844-9\n",
      "The Algorithm Design Manual http://link.springer.com/openurl?genre=book&isbn=978-1-84800-070-4\n",
      "Principles of Data Mining http://link.springer.com/openurl?genre=book&isbn=978-1-4471-7307-6\n",
      "Fundamentals of Business Process Management http://link.springer.com/openurl?genre=book&isbn=978-3-642-33143-5\n",
      "UML @ Classroom http://link.springer.com/openurl?genre=book&isbn=978-3-319-12742-2\n",
      "Foundations for Designing User-Centered Systems http://link.springer.com/openurl?genre=book&isbn=978-1-4471-5134-0\n",
      "Computer Vision http://link.springer.com/openurl?genre=book&isbn=978-1-84882-935-0\n",
      "Data Mining http://link.springer.com/openurl?genre=book&isbn=978-3-319-14142-8\n",
      "Computational Geometry http://link.springer.com/openurl?genre=book&isbn=978-3-540-77974-2\n",
      "Cryptography Made Simple http://link.springer.com/openurl?genre=book&isbn=978-3-319-21936-3\n",
      "Eye Tracking Methodology http://link.springer.com/openurl?genre=book&isbn=978-3-319-57883-5\n",
      "The Data Science Design Manual http://link.springer.com/openurl?genre=book&isbn=978-3-319-55444-0\n",
      "An Introduction to Machine Learning http://link.springer.com/openurl?genre=book&isbn=978-3-319-63913-0\n",
      "Guide to Discrete Mathematics http://link.springer.com/openurl?genre=book&isbn=978-3-319-44561-8\n",
      "Modelling Computing Systems http://link.springer.com/openurl?genre=book&isbn=978-1-84800-322-4\n",
      "Understanding Cryptography http://link.springer.com/openurl?genre=book&isbn=978-3-642-04101-3\n",
      "Concise Guide to Software Engineering http://link.springer.com/openurl?genre=book&isbn=978-3-319-57750-0\n",
      "Fundamentals of Multimedia http://link.springer.com/openurl?genre=book&isbn=978-3-319-05290-8\n",
      "The Python Workbook http://link.springer.com/openurl?genre=book&isbn=978-3-319-14240-1\n",
      "Recommender Systems http://link.springer.com/openurl?genre=book&isbn=978-3-319-29659-3\n",
      "Python Programming Fundamentals http://link.springer.com/openurl?genre=book&isbn=978-1-4471-6642-9\n",
      "Object-Oriented Analysis, Design and Implementation http://link.springer.com/openurl?genre=book&isbn=978-3-319-24280-4\n",
      "Introduction to Data Science http://link.springer.com/openurl?genre=book&isbn=978-3-319-50017-1\n",
      "Concise Guide to Databases http://link.springer.com/openurl?genre=book&isbn=978-1-4471-5601-7\n",
      "Digital Image Processing http://link.springer.com/openurl?genre=book&isbn=978-1-4471-6684-9\n",
      "Guide to Computer Network Security http://link.springer.com/openurl?genre=book&isbn=978-3-319-55606-2\n",
      "Foundations of Programming Languages http://link.springer.com/openurl?genre=book&isbn=978-3-319-70790-7\n",
      "Probability and Statistics for Computer Science http://link.springer.com/openurl?genre=book&isbn=978-3-319-64410-3\n",
      "Guide to Competitive Programming http://link.springer.com/openurl?genre=book&isbn=978-3-319-72547-5\n",
      "Introduction to Artificial Intelligence http://link.springer.com/openurl?genre=book&isbn=978-3-319-58487-4\n",
      "Introduction to Deep Learning http://link.springer.com/openurl?genre=book&isbn=978-3-319-73004-2\n",
      "A Beginner's Guide to Scala, Object Orientation and Functional Programming http://link.springer.com/openurl?genre=book&isbn=978-3-319-75771-1\n",
      "Fundamentals of Business Process Management http://link.springer.com/openurl?genre=book&isbn=978-3-662-56509-4\n",
      "Guide to Scientific Computing in C++ http://link.springer.com/openurl?genre=book&isbn=978-3-319-73132-2\n",
      "Fundamentals of Java Programming http://link.springer.com/openurl?genre=book&isbn=978-3-319-89491-1\n",
      "Logical Foundations of Cyber-Physical Systems http://link.springer.com/openurl?genre=book&isbn=978-3-319-63588-0\n",
      "Introduction to Programming with Fortran http://link.springer.com/openurl?genre=book&isbn=978-3-319-75502-1\n",
      "Neural Networks and Deep Learning http://link.springer.com/openurl?genre=book&isbn=978-3-319-94463-0\n",
      "Data Science and Predictive Analytics http://link.springer.com/openurl?genre=book&isbn=978-3-319-72347-1\n",
      "Systems Programming in Unix/Linux http://link.springer.com/openurl?genre=book&isbn=978-3-319-92429-8\n",
      "Introduction to Parallel Computing http://link.springer.com/openurl?genre=book&isbn=978-3-319-98833-7\n",
      "Analysis for Computer Scientists http://link.springer.com/openurl?genre=book&isbn=978-3-319-91155-7\n",
      "Introductory Computer Forensics http://link.springer.com/openurl?genre=book&isbn=978-3-030-00581-8\n",
      "Java in Two Semesters http://link.springer.com/openurl?genre=book&isbn=978-3-319-99420-8\n",
      "A Beginners Guide to Python 3 Programming http://link.springer.com/openurl?genre=book&isbn=978-3-030-20290-3\n",
      "Advanced Guide to Python 3 Programming http://link.springer.com/openurl?genre=book&isbn=978-3-030-25943-3\n"
     ]
    }
   ],
   "source": [
    "import requests\n",
    "import csv\n",
    "\n",
    "def saveAsPDF(book_title, from_url):\n",
    "    content = requests.get(from_url)\n",
    "    with open(book_title+'.pdf', 'wb') as f:\n",
    "        #f.write(content.content)\n",
    "        #\n",
    "        # ##\n",
    "        # actual pdf links require captcha\n",
    "        # ##\n",
    "        print(row['Book Title'], row['OpenURL'])\n",
    "\n",
    "with open('springer.csv', 'r', encoding=\"utf8\" ) as f:\n",
    "    csv_reader = csv.DictReader(f)\n",
    "    for row in csv_reader:\n",
    "        if(row['English Package Name'] == 'Computer Science'):\n",
    "            saveAsPDF(row['Book Title'].replace(\"/\", \"_\").replace(\" \", \"_\"), row['OpenURL'])"
   ]
  },
  {
   "cell_type": "markdown",
   "metadata": {},
   "source": [
    "## Ceasar encryption"
   ]
  },
  {
   "cell_type": "markdown",
   "metadata": {},
   "source": [
    "In a Caesar encryption one moves all characters in a string N positions “forward” in the alphabet. So if the encryption N is 4,\n",
    "\n",
    "    'a' becomes 'e' and\n",
    "    'm' becomes 'q'.\n",
    "\n",
    "If the “forward move” exits the alphabet (like 'z' + 20) it wraps around.\n",
    "\n",
    "\n",
    "### Task:\n",
    "\n",
    "    Code a Caesar encryption algorithm.\n",
    "    Code a decryption algorithm."
   ]
  },
  {
   "cell_type": "code",
   "execution_count": 2,
   "metadata": {},
   "outputs": [],
   "source": [
    "def cypher(n, text):\n",
    "    new = ''\n",
    "    for letter in text.upper():\n",
    "        if(letter.isalpha() and letter != 'Æ' and letter != 'Ø' and letter != 'Å'):\n",
    "            new += chr((ord(letter)+n-65)%26 +65)\n",
    "        else:\n",
    "            new += letter\n",
    "    return new\n",
    "\n",
    "def decypher(text):\n",
    "    n = 1\n",
    "    while n < 26:\n",
    "        new = ''\n",
    "        for letter in text:\n",
    "            if(letter.isalpha() and letter != 'Æ' and letter != 'Ø' and letter != 'Å'):\n",
    "                new += chr((ord(letter)+n-65)%26 +65)\n",
    "            else:\n",
    "                new += letter\n",
    "        n += 1\n",
    "        print(new)"
   ]
  },
  {
   "cell_type": "markdown",
   "metadata": {},
   "source": [
    "### Test:\n",
    "\n",
    "Encrypt and afterwards decrypt\n",
    "\n",
    "    'thequickbrownfoxjumpsoverthelazydog', N=4.\n",
    "    'It all started 6 weeks ago. A truck, loaded with stripped gun parts got jack'd outside of Queens', N = 5\n",
    "    'Æbletærte er et lækkert alternative til rød grød med fløde', N=6\n"
   ]
  },
  {
   "cell_type": "code",
   "execution_count": 3,
   "metadata": {},
   "outputs": [
    {
     "name": "stdout",
     "output_type": "stream",
     "text": [
      "XLIUYMGOFVSARJSBNYQTWSZIVXLIPEDCHSK\n",
      "NY FQQ XYFWYJI 6 BJJPX FLT. F YWZHP, QTFIJI BNYM XYWNUUJI LZS UFWYX LTY OFHP'I TZYXNIJ TK VZJJSX\n",
      "ÆHRKZÆXZK KX KZ RÆQQKXZ GRZKXTGZOBK ZOR XØJ MXØJ SKJ LRØJK\n",
      "\n",
      "\n",
      "ÆISLAÆYAL LY LA SÆRRLYA HSALYUHAPCL APS YØK NYØK TLK MSØKL\n",
      "ÆJTMBÆZBM MZ MB TÆSSMZB ITBMZVIBQDM BQT ZØL OZØL UML NTØLM\n",
      "ÆKUNCÆACN NA NC UÆTTNAC JUCNAWJCREN CRU AØM PAØM VNM OUØMN\n",
      "ÆLVODÆBDO OB OD VÆUUOBD KVDOBXKDSFO DSV BØN QBØN WON PVØNO\n",
      "ÆMWPEÆCEP PC PE WÆVVPCE LWEPCYLETGP ETW CØO RCØO XPO QWØOP\n",
      "ÆNXQFÆDFQ QD QF XÆWWQDF MXFQDZMFUHQ FUX DØP SDØP YQP RXØPQ\n",
      "ÆOYRGÆEGR RE RG YÆXXREG NYGREANGVIR GVY EØQ TEØQ ZRQ SYØQR\n",
      "ÆPZSHÆFHS SF SH ZÆYYSFH OZHSFBOHWJS HWZ FØR UFØR ASR TZØRS\n",
      "ÆQATIÆGIT TG TI AÆZZTGI PAITGCPIXKT IXA GØS VGØS BTS UAØST\n",
      "ÆRBUJÆHJU UH UJ BÆAAUHJ QBJUHDQJYLU JYB HØT WHØT CUT VBØTU\n",
      "ÆSCVKÆIKV VI VK CÆBBVIK RCKVIERKZMV KZC IØU XIØU DVU WCØUV\n",
      "ÆTDWLÆJLW WJ WL DÆCCWJL SDLWJFSLANW LAD JØV YJØV EWV XDØVW\n",
      "ÆUEXMÆKMX XK XM EÆDDXKM TEMXKGTMBOX MBE KØW ZKØW FXW YEØWX\n",
      "ÆVFYNÆLNY YL YN FÆEEYLN UFNYLHUNCPY NCF LØX ALØX GYX ZFØXY\n",
      "ÆWGZOÆMOZ ZM ZO GÆFFZMO VGOZMIVODQZ ODG MØY BMØY HZY AGØYZ\n",
      "ÆXHAPÆNPA AN AP HÆGGANP WHPANJWPERA PEH NØZ CNØZ IAZ BHØZA\n",
      "ÆYIBQÆOQB BO BQ IÆHHBOQ XIQBOKXQFSB QFI OØA DOØA JBA CIØAB\n",
      "ÆZJCRÆPRC CP CR JÆIICPR YJRCPLYRGTC RGJ PØB EPØB KCB DJØBC\n",
      "ÆAKDSÆQSD DQ DS KÆJJDQS ZKSDQMZSHUD SHK QØC FQØC LDC EKØCD\n",
      "ÆBLETÆRTE ER ET LÆKKERT ALTERNATIVE TIL RØD GRØD MED FLØDE\n",
      "ÆCMFUÆSUF FS FU MÆLLFSU BMUFSOBUJWF UJM SØE HSØE NFE GMØEF\n",
      "ÆDNGVÆTVG GT GV NÆMMGTV CNVGTPCVKXG VKN TØF ITØF OGF HNØFG\n",
      "ÆEOHWÆUWH HU HW OÆNNHUW DOWHUQDWLYH WLO UØG JUØG PHG IOØGH\n",
      "ÆFPIXÆVXI IV IX PÆOOIVX EPXIVREXMZI XMP VØH KVØH QIH JPØHI\n",
      "ÆGQJYÆWYJ JW JY QÆPPJWY FQYJWSFYNAJ YNQ WØI LWØI RJI KQØIJ\n"
     ]
    }
   ],
   "source": [
    "print(cypher(4, 'thequickbrownfoxjumpsoverthelazydog'))\n",
    "print(cypher(5, 'It all started 6 weeks ago. A truck, loaded with stripped gun parts got jack\\'d outside of Queens'))\n",
    "toDecypher = cypher(6, 'Æbletærte er et lækkert alternative til rød grød med fløde')\n",
    "print(toDecypher)\n",
    "             \n",
    "print('\\n')\n",
    "\n",
    "decypher(toDecypher)"
   ]
  },
  {
   "cell_type": "markdown",
   "metadata": {},
   "source": [
    "## Library code"
   ]
  },
  {
   "cell_type": "markdown",
   "metadata": {},
   "source": [
    "> Create the library code for this client code output. \n",
    "\n",
    "As it is now, it is not pythonic.   \n",
    "Some parts of the code would reveal that it is a Java programmer that have written the code.   \n",
    "When you create the library code you should fix these mistakes and make it pythonic.                       "
   ]
  },
  {
   "cell_type": "raw",
   "metadata": {},
   "source": [
    ">>> bar = Bar() \n",
    "Traceback (most recent call last):\n",
    "    File \"<stdin>\", line 1, in <module>\n",
    "TypeError: __init__() missing 2 required positional arguments: 'x' and 'y'\n",
    "\n",
    ">>> bar = Bar('Hello', 'World')\n",
    "Traceback (most recent call last):\n",
    "Traceback (most recent call last):\n",
    "    File \"<stdin>\", line 1, in <module>\n",
    "File \"property_client.py\", line 5, in __init__\n",
    "    self.set_x(x)\n",
    "File \"property_client.py\", line 29, in set_x\n",
    "    raise TypeError('x has to be an \"int\"')\n",
    "TypeError: x has to be an \"int\"\n",
    "\n",
    ">>> bar = Bar(12, 'There')\n",
    ">>> bar.y = 123 \n",
    ">>> bar.set_x(1024)\n",
    ">>> bar.get_x()\n",
    "1024\n",
    "\n",
    ">>> bar\n",
    "{'_Bar__x': 12, 'y': 'There'}\n",
    "\n",
    ">>> str(bar)\n",
    "'x = 12, y = There'"
   ]
  },
  {
   "cell_type": "code",
   "execution_count": 6,
   "metadata": {},
   "outputs": [],
   "source": [
    "class Bar():\n",
    "    def __init__(self, x, y):\n",
    "        if type(x) is int:\n",
    "            self.x = x\n",
    "            self.y = y\n",
    "        else:\n",
    "            raise TypeError('x has to be an \"int\"')\n",
    "    def set_x(self, x):\n",
    "        if not type(x) is int:\n",
    "            raise TypeError('x has to be an \"int\"')\n",
    "        else:\n",
    "            self.x = x\n",
    "    def get_x(self):\n",
    "        print(self.x)\n",
    "    def __repr__(self):\n",
    "        return '{\\'_Bar__x\\':self.x, \\'y\\':self.y}'\n",
    "    def __str__(self):\n",
    "        return 'x = %s, y = %s' % (str(self.x), str(self.y))"
   ]
  },
  {
   "cell_type": "code",
   "execution_count": 7,
   "metadata": {},
   "outputs": [],
   "source": [
    "bar = Bar(1,2)"
   ]
  },
  {
   "cell_type": "code",
   "execution_count": 8,
   "metadata": {},
   "outputs": [
    {
     "data": {
      "text/plain": [
       "{'_Bar__x':self.x, 'y':self.y}"
      ]
     },
     "execution_count": 8,
     "metadata": {},
     "output_type": "execute_result"
    }
   ],
   "source": [
    "bar"
   ]
  },
  {
   "cell_type": "code",
   "execution_count": 9,
   "metadata": {},
   "outputs": [
    {
     "data": {
      "text/plain": [
       "\"'x = 1, y = 2'\""
      ]
     },
     "execution_count": 9,
     "metadata": {},
     "output_type": "execute_result"
    }
   ],
   "source": [
    "str(bar)"
   ]
  },
  {
   "cell_type": "code",
   "execution_count": 10,
   "metadata": {},
   "outputs": [
    {
     "ename": "TypeError",
     "evalue": "x has to be an \"int\"",
     "output_type": "error",
     "traceback": [
      "\u001b[1;31m---------------------------------------------------------------------------\u001b[0m",
      "\u001b[1;31mTypeError\u001b[0m                                 Traceback (most recent call last)",
      "\u001b[1;32m<ipython-input-10-1374d3f08bd1>\u001b[0m in \u001b[0;36m<module>\u001b[1;34m\u001b[0m\n\u001b[1;32m----> 1\u001b[1;33m \u001b[0mbar\u001b[0m \u001b[1;33m=\u001b[0m \u001b[0mBar\u001b[0m\u001b[1;33m(\u001b[0m\u001b[1;34m'Hello'\u001b[0m\u001b[1;33m,\u001b[0m \u001b[1;34m'World'\u001b[0m\u001b[1;33m)\u001b[0m\u001b[1;33m\u001b[0m\u001b[1;33m\u001b[0m\u001b[0m\n\u001b[0m",
      "\u001b[1;32m<ipython-input-6-2909efd62d8a>\u001b[0m in \u001b[0;36m__init__\u001b[1;34m(self, x, y)\u001b[0m\n\u001b[0;32m      5\u001b[0m             \u001b[0mself\u001b[0m\u001b[1;33m.\u001b[0m\u001b[0my\u001b[0m \u001b[1;33m=\u001b[0m \u001b[0my\u001b[0m\u001b[1;33m\u001b[0m\u001b[1;33m\u001b[0m\u001b[0m\n\u001b[0;32m      6\u001b[0m         \u001b[1;32melse\u001b[0m\u001b[1;33m:\u001b[0m\u001b[1;33m\u001b[0m\u001b[1;33m\u001b[0m\u001b[0m\n\u001b[1;32m----> 7\u001b[1;33m             \u001b[1;32mraise\u001b[0m \u001b[0mTypeError\u001b[0m\u001b[1;33m(\u001b[0m\u001b[1;34m'x has to be an \"int\"'\u001b[0m\u001b[1;33m)\u001b[0m\u001b[1;33m\u001b[0m\u001b[1;33m\u001b[0m\u001b[0m\n\u001b[0m\u001b[0;32m      8\u001b[0m     \u001b[1;32mdef\u001b[0m \u001b[0mset_x\u001b[0m\u001b[1;33m(\u001b[0m\u001b[0mself\u001b[0m\u001b[1;33m,\u001b[0m \u001b[0mx\u001b[0m\u001b[1;33m)\u001b[0m\u001b[1;33m:\u001b[0m\u001b[1;33m\u001b[0m\u001b[1;33m\u001b[0m\u001b[0m\n\u001b[0;32m      9\u001b[0m         \u001b[1;32mif\u001b[0m \u001b[1;32mnot\u001b[0m \u001b[0mtype\u001b[0m\u001b[1;33m(\u001b[0m\u001b[0mx\u001b[0m\u001b[1;33m)\u001b[0m \u001b[1;32mis\u001b[0m \u001b[0mint\u001b[0m\u001b[1;33m:\u001b[0m\u001b[1;33m\u001b[0m\u001b[1;33m\u001b[0m\u001b[0m\n",
      "\u001b[1;31mTypeError\u001b[0m: x has to be an \"int\""
     ]
    }
   ],
   "source": [
    "bar = Bar('Hello', 'World')"
   ]
  },
  {
   "cell_type": "code",
   "execution_count": 11,
   "metadata": {},
   "outputs": [],
   "source": [
    "bar = Bar(12, 'There')"
   ]
  },
  {
   "cell_type": "code",
   "execution_count": 12,
   "metadata": {},
   "outputs": [],
   "source": [
    "bar.y = 123 "
   ]
  },
  {
   "cell_type": "code",
   "execution_count": 13,
   "metadata": {},
   "outputs": [],
   "source": [
    "bar.set_x(1024)"
   ]
  },
  {
   "cell_type": "code",
   "execution_count": 14,
   "metadata": {},
   "outputs": [
    {
     "data": {
      "text/plain": [
       "123"
      ]
     },
     "execution_count": 14,
     "metadata": {},
     "output_type": "execute_result"
    }
   ],
   "source": [
    "bar.y"
   ]
  },
  {
   "cell_type": "code",
   "execution_count": 15,
   "metadata": {},
   "outputs": [
    {
     "name": "stdout",
     "output_type": "stream",
     "text": [
      "1024\n"
     ]
    }
   ],
   "source": [
    "bar.get_x()"
   ]
  },
  {
   "cell_type": "code",
   "execution_count": 16,
   "metadata": {},
   "outputs": [
    {
     "data": {
      "text/plain": [
       "\"'x = 1024, y = 123'\""
      ]
     },
     "execution_count": 16,
     "metadata": {},
     "output_type": "execute_result"
    }
   ],
   "source": [
    "str(bar)"
   ]
  },
  {
   "cell_type": "code",
   "execution_count": 17,
   "metadata": {},
   "outputs": [
    {
     "data": {
      "text/plain": [
       "{'_Bar__x':self.x, 'y':self.y}"
      ]
     },
     "execution_count": 17,
     "metadata": {},
     "output_type": "execute_result"
    }
   ],
   "source": [
    "bar"
   ]
  },
  {
   "cell_type": "code",
   "execution_count": null,
   "metadata": {},
   "outputs": [],
   "source": []
  }
 ],
 "metadata": {
  "kernelspec": {
   "display_name": "Python 3",
   "language": "python",
   "name": "python3"
  },
  "language_info": {
   "codemirror_mode": {
    "name": "ipython",
    "version": 3
   },
   "file_extension": ".py",
   "mimetype": "text/x-python",
   "name": "python",
   "nbconvert_exporter": "python",
   "pygments_lexer": "ipython3",
   "version": "3.8.2"
  },
  "toc": {
   "base_numbering": 1,
   "nav_menu": {},
   "number_sections": false,
   "sideBar": true,
   "skip_h1_title": true,
   "title_cell": "Table of Contents",
   "title_sidebar": "Contents",
   "toc_cell": false,
   "toc_position": {},
   "toc_section_display": true,
   "toc_window_display": false
  }
 },
 "nbformat": 4,
 "nbformat_minor": 4
}
